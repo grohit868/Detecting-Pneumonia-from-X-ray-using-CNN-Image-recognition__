{
 "cells": [
  {
   "cell_type": "markdown",
   "metadata": {},
   "source": [
    "# Detecting Pneumonia from X-ray using CNN(Image recognition)"
   ]
  },
  {
   "cell_type": "markdown",
   "metadata": {},
   "source": [
    "### Reading the Images data"
   ]
  },
  {
   "cell_type": "code",
   "execution_count": 1,
   "metadata": {
    "scrolled": true
   },
   "outputs": [
    {
     "name": "stdout",
     "output_type": "stream",
     "text": [
      "Found 5216 images belonging to 2 classes.\n",
      "Found 5216 images belonging to 2 classes.\n"
     ]
    },
    {
     "data": {
      "text/plain": [
       "{'NORMAL': 0, 'PNEUMONIA': 1}"
      ]
     },
     "execution_count": 1,
     "metadata": {},
     "output_type": "execute_result"
    }
   ],
   "source": [
    "# Deep Learning CNN model to recognize face\n",
    "\n",
    "'''########################## IMAGE PRE-PROCESSING for TRAINING and TESTING data ##############################'''\n",
    "\n",
    "TrainingImagePath='C:/Users/Administrator/Desktop/chest_xray/train'\n",
    "\n",
    "from keras.preprocessing.image import ImageDataGenerator\n",
    "\n",
    "# Defining pre-processing transformations on raw images of training data\n",
    "train_datagen = ImageDataGenerator(\n",
    "        rescale=1./255,\n",
    "        shear_range=0.1,\n",
    "        zoom_range=0.1,\n",
    "        horizontal_flip=True)\n",
    "\n",
    "# Defining pre-processing transformations on raw images of testing data\n",
    "test_datagen = ImageDataGenerator(rescale=1./255)\n",
    "\n",
    "# Generating the Training Data\n",
    "training_set = train_datagen.flow_from_directory(\n",
    "        TrainingImagePath,\n",
    "        target_size=(64, 64),\n",
    "        batch_size=32,\n",
    "        class_mode='categorical')\n",
    "\n",
    "\n",
    "# Generating the Testing Data\n",
    "test_set = test_datagen.flow_from_directory(\n",
    "        TrainingImagePath,\n",
    "        target_size=(64, 64),\n",
    "        batch_size=32,\n",
    "        class_mode='categorical')\n",
    "\n",
    "# Printing class labels for each Xray\n",
    "test_set.class_indices"
   ]
  },
  {
   "cell_type": "code",
   "execution_count": null,
   "metadata": {},
   "outputs": [],
   "source": []
  },
  {
   "cell_type": "markdown",
   "metadata": {},
   "source": [
    "### Creating a list of faces and classes"
   ]
  },
  {
   "cell_type": "code",
   "execution_count": 2,
   "metadata": {},
   "outputs": [
    {
     "name": "stdout",
     "output_type": "stream",
     "text": [
      "Mapping of Xray's and its ID {0: 'NORMAL', 1: 'PNEUMONIA'}\n",
      "\n",
      " The Number of output neurons:  2\n"
     ]
    }
   ],
   "source": [
    "'''#################### Creating lookup table for all faces ##############################'''\n",
    "# class_indices have the numeric tag for each face\n",
    "TrainClasses=training_set.class_indices\n",
    "\n",
    "# Storing the face and the numeric tag for future reference\n",
    "ResultMap={}\n",
    "for faceValue,faceName in zip(TrainClasses.values(),TrainClasses.keys()):\n",
    "    ResultMap[faceValue]=faceName\n",
    "\n",
    "# Saving the face map for future reference\n",
    "import pickle\n",
    "with open(\"C:/Users/Administrator/Desktop/IVY/chest_xray/ResultsMap.pkl\", 'wb') as f:\n",
    "    pickle.dump(ResultMap, f, pickle.HIGHEST_PROTOCOL)\n",
    "\n",
    "print(\"Mapping of Xray's and its ID\",ResultMap)\n",
    "\n",
    "# The number of neurons for the output layer is equal to the number of faces\n",
    "OutputNeurons=len(ResultMap)\n",
    "print('\\n The Number of output neurons: ', OutputNeurons)"
   ]
  },
  {
   "cell_type": "markdown",
   "metadata": {},
   "source": [
    "### Creating the CNN model"
   ]
  },
  {
   "cell_type": "code",
   "execution_count": 3,
   "metadata": {},
   "outputs": [],
   "source": [
    "'''######################## Create CNN deep learning model ####################################'''\n",
    "from keras.models import Sequential\n",
    "from keras.layers import Convolution2D\n",
    "from keras.layers import MaxPool2D\n",
    "from keras.layers import Flatten\n",
    "from keras.layers import Dense\n",
    "\n",
    "'''Initializing the Convolutional Neural Network'''\n",
    "classifier= Sequential()\n",
    "\n",
    "''' STEP--1 Convolution\n",
    "# Adding the first layer of CNN\n",
    "# we are using the format (64,64,3) because we are using TensorFlow backend\n",
    "# It means 3 matrix of size (64X64) pixels representing Red, Green and Blue components of pixels\n",
    "'''\n",
    "classifier.add(Convolution2D(32, kernel_size=(5, 5), strides=(1, 1), input_shape=(64,64,3), activation='relu'))\n",
    "\n",
    "'''# STEP--2 MAX Pooling'''\n",
    "classifier.add(MaxPool2D(pool_size=(2,2)))\n",
    "\n",
    "'''############## ADDITIONAL LAYER of CONVOLUTION for better accuracy #################'''\n",
    "classifier.add(Convolution2D(64, kernel_size=(5, 5), strides=(1, 1), activation='relu'))\n",
    "\n",
    "classifier.add(MaxPool2D(pool_size=(2,2)))\n",
    "\n",
    "\n",
    "'''# STEP--3 FLattening'''\n",
    "classifier.add(Flatten())\n",
    "\n",
    "'''# STEP--4 Fully Connected Neural Network'''\n",
    "classifier.add(Dense(64, activation='relu'))\n",
    "\n",
    "classifier.add(Dense(OutputNeurons, activation='softmax'))\n",
    "\n",
    "'''# Compiling the CNN'''\n",
    "#classifier.compile(loss='binary_crossentropy', optimizer='adam', metrics=['accuracy'])\n",
    "classifier.compile(loss='categorical_crossentropy', optimizer = 'adam', metrics=[\"accuracy\"])"
   ]
  },
  {
   "cell_type": "code",
   "execution_count": null,
   "metadata": {},
   "outputs": [],
   "source": []
  },
  {
   "cell_type": "markdown",
   "metadata": {},
   "source": [
    "### Fitting the model"
   ]
  },
  {
   "cell_type": "code",
   "execution_count": 4,
   "metadata": {},
   "outputs": [
    {
     "name": "stdout",
     "output_type": "stream",
     "text": [
      "WARNING:tensorflow:From <ipython-input-4-4fd45eccd4e3>:11: Model.fit_generator (from tensorflow.python.keras.engine.training) is deprecated and will be removed in a future version.\n",
      "Instructions for updating:\n",
      "Please use Model.fit, which supports generators.\n",
      "Epoch 1/10\n",
      "30/30 [==============================] - 50s 2s/step - loss: 0.5451 - accuracy: 0.7625 - val_loss: 0.3850 - val_accuracy: 0.8625\n",
      "Epoch 2/10\n",
      "30/30 [==============================] - 48s 2s/step - loss: 0.3884 - accuracy: 0.8344 - val_loss: 0.2814 - val_accuracy: 0.9125\n",
      "Epoch 3/10\n",
      "30/30 [==============================] - 44s 1s/step - loss: 0.2714 - accuracy: 0.8823 - val_loss: 0.2275 - val_accuracy: 0.9000\n",
      "Epoch 4/10\n",
      "30/30 [==============================] - 41s 1s/step - loss: 0.2292 - accuracy: 0.9083 - val_loss: 0.1635 - val_accuracy: 0.9469\n",
      "Epoch 5/10\n",
      "30/30 [==============================] - 42s 1s/step - loss: 0.2000 - accuracy: 0.9094 - val_loss: 0.1259 - val_accuracy: 0.9594\n",
      "Epoch 6/10\n",
      "30/30 [==============================] - 55s 2s/step - loss: 0.2040 - accuracy: 0.9281 - val_loss: 0.1518 - val_accuracy: 0.9406\n",
      "Epoch 7/10\n",
      "30/30 [==============================] - 48s 2s/step - loss: 0.1819 - accuracy: 0.9302 - val_loss: 0.3020 - val_accuracy: 0.8687\n",
      "Epoch 8/10\n",
      "30/30 [==============================] - 41s 1s/step - loss: 0.1910 - accuracy: 0.9177 - val_loss: 0.2181 - val_accuracy: 0.8875\n",
      "Epoch 9/10\n",
      "30/30 [==============================] - 38s 1s/step - loss: 0.1989 - accuracy: 0.9208 - val_loss: 0.1605 - val_accuracy: 0.9312\n",
      "Epoch 10/10\n",
      "30/30 [==============================] - 41s 1s/step - loss: 0.1979 - accuracy: 0.9260 - val_loss: 0.1415 - val_accuracy: 0.9469\n",
      "############### Total Time Taken:  8 Minutes #############\n"
     ]
    }
   ],
   "source": [
    "import time\n",
    "# Measuring the time taken by the model to train\n",
    "StartTime=time.time()\n",
    "\n",
    "# Starting the model training\n",
    "classifier.fit_generator(\n",
    "                    training_set,\n",
    "                    steps_per_epoch=30,\n",
    "                    epochs=10,\n",
    "                    validation_data=test_set,\n",
    "                    validation_steps=10)\n",
    "\n",
    "EndTime=time.time()\n",
    "print(\"############### Total Time Taken: \", round((EndTime-StartTime)/60), 'Minutes #############')"
   ]
  },
  {
   "cell_type": "markdown",
   "metadata": {},
   "source": [
    "### Saving the model"
   ]
  },
  {
   "cell_type": "code",
   "execution_count": 5,
   "metadata": {},
   "outputs": [
    {
     "name": "stdout",
     "output_type": "stream",
     "text": [
      "WARNING:tensorflow:From C:\\ProgramData\\Anaconda3\\lib\\site-packages\\tensorflow\\python\\training\\tracking\\tracking.py:111: Model.state_updates (from tensorflow.python.keras.engine.training) is deprecated and will be removed in a future version.\n",
      "Instructions for updating:\n",
      "This property should not be used in TensorFlow 2.0, as updates are applied automatically.\n",
      "WARNING:tensorflow:From C:\\ProgramData\\Anaconda3\\lib\\site-packages\\tensorflow\\python\\training\\tracking\\tracking.py:111: Layer.updates (from tensorflow.python.keras.engine.base_layer) is deprecated and will be removed in a future version.\n",
      "Instructions for updating:\n",
      "This property should not be used in TensorFlow 2.0, as updates are applied automatically.\n",
      "INFO:tensorflow:Assets written to: C:/Users/Administrator/Desktop/IVY/chest_xray/classifier.pkl\\assets\n"
     ]
    }
   ],
   "source": [
    "## Saving the model\n",
    "classifier.save(\"C:/Users/Administrator/Desktop/IVY/chest_xray/classifier.pkl\")"
   ]
  },
  {
   "cell_type": "markdown",
   "metadata": {},
   "source": [
    "### Testing the model on a different face"
   ]
  },
  {
   "cell_type": "code",
   "execution_count": 6,
   "metadata": {},
   "outputs": [
    {
     "name": "stdout",
     "output_type": "stream",
     "text": [
      "########################################\n",
      "Prediction is:  NORMAL\n"
     ]
    }
   ],
   "source": [
    "'''########################## Making single predictions ############################'''\n",
    "import numpy as np\n",
    "from keras.preprocessing import image\n",
    "\n",
    "testImage='C:/Users/Administrator/Desktop/IVY/chest_xray/test/3.jpg'\n",
    "test_image=image.load_img(testImage,target_size=(64, 64))\n",
    "test_image=image.img_to_array(test_image)\n",
    "\n",
    "test_image=np.expand_dims(test_image,axis=0)\n",
    "\n",
    "result=classifier.predict(test_image,verbose=0)\n",
    "#print(training_set.class_indices)\n",
    "\n",
    "print('####'*10)\n",
    "print('Prediction is: ',ResultMap[np.argmax(result)])"
   ]
  },
  {
   "cell_type": "code",
   "execution_count": null,
   "metadata": {},
   "outputs": [],
   "source": []
  },
  {
   "cell_type": "code",
   "execution_count": null,
   "metadata": {},
   "outputs": [],
   "source": []
  }
 ],
 "metadata": {
  "kernelspec": {
   "display_name": "Python 3",
   "language": "python",
   "name": "python3"
  },
  "language_info": {
   "codemirror_mode": {
    "name": "ipython",
    "version": 3
   },
   "file_extension": ".py",
   "mimetype": "text/x-python",
   "name": "python",
   "nbconvert_exporter": "python",
   "pygments_lexer": "ipython3",
   "version": "3.7.6"
  }
 },
 "nbformat": 4,
 "nbformat_minor": 2
}
